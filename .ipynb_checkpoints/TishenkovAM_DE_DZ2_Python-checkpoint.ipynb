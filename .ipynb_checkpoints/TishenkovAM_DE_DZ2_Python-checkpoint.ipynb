{
 "cells": [
  {
   "cell_type": "code",
   "execution_count": 9,
   "id": "2e7ab20e-90cd-42cc-b53b-d8080ffc7b81",
   "metadata": {},
   "outputs": [
    {
     "name": "stdout",
     "output_type": "stream",
     "text": [
      "2002-10-02 00:00:00\n",
      "2013-10-11 00:00:00\n",
      "1977-08-18 00:00:00\n"
     ]
    }
   ],
   "source": [
    "from datetime import datetime\n",
    "\n",
    "print(datetime.strptime(\"Wednesday, October 2, 2002\", \"%A, %B %d, %Y\"))\n",
    "print(datetime.strptime(\"Friday, 11.10.13\", \"%A, %d.%m.%y\"))\n",
    "print(datetime.strptime(\"Thursday, 18 August 1977\",\"%A, %d %B %Y\"))"
   ]
  },
  {
   "cell_type": "code",
   "execution_count": 10,
   "id": "25c0f628-8529-44a1-b51c-5a875e9e9ac0",
   "metadata": {},
   "outputs": [
    {
     "name": "stdout",
     "output_type": "stream",
     "text": [
      "['2022-01-01', '2022-01-02', '2022-01-03']\n",
      "[]\n",
      "[]\n"
     ]
    }
   ],
   "source": [
    "from datetime import timedelta\n",
    "\n",
    "def date_range(start_date, end_date):\n",
    "    try:\n",
    "        start = datetime.strptime(start_date, \"%Y-%m-%d\")\n",
    "        end = datetime.strptime(end_date, \"%Y-%m-%d\")\n",
    "        if start > end:\n",
    "            return []\n",
    "        list_date = []\n",
    "        current_date = start\n",
    "        while current_date <= end:\n",
    "            list_date.append(current_date.strftime(\"%Y-%m-%d\"))\n",
    "            current_date += timedelta(days=1)\n",
    "        return list_date\n",
    "\n",
    "    except ValueError:\n",
    "        return []\n",
    "\n",
    "print(date_range(\"2022-01-01\", \"2022-01-03\"))\n",
    "print(date_range(\"2022-01-03\", \"2022-01-01\"))\n",
    "print(date_range(\"2022-02-30\", \"2022-02-31\"))"
   ]
  },
  {
   "cell_type": "code",
   "execution_count": null,
   "id": "4a7a7252-6113-4f8a-af04-7233b72bbeb9",
   "metadata": {},
   "outputs": [],
   "source": []
  }
 ],
 "metadata": {
  "kernelspec": {
   "display_name": "Python 3 (ipykernel)",
   "language": "python",
   "name": "python3"
  },
  "language_info": {
   "codemirror_mode": {
    "name": "ipython",
    "version": 3
   },
   "file_extension": ".py",
   "mimetype": "text/x-python",
   "name": "python",
   "nbconvert_exporter": "python",
   "pygments_lexer": "ipython3",
   "version": "3.13.5"
  }
 },
 "nbformat": 4,
 "nbformat_minor": 5
}
